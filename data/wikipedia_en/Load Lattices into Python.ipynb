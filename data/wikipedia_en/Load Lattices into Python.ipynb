{
 "cells": [
  {
   "cell_type": "code",
   "execution_count": 26,
   "metadata": {
    "collapsed": false
   },
   "outputs": [],
   "source": [
    "import gzip\n",
    "import os\n",
    "import io\n",
    "from IPython.display import clear_output\n",
    "\n",
    "class OntologyBranch:\n",
    "    __slots__ = [\"parents\", \"children\", \"name\", \"lookup_table\", \"id\"]\n",
    "    \n",
    "    def __init__(self, name):\n",
    "        self.name = name\n",
    "        self.parents = []\n",
    "        self.children = []\n",
    "        self.lookup_table = None\n",
    "        \n",
    "    def add_parent(self, parent):\n",
    "        self.parents.append(parent)\n",
    "        parent.add_child(self)\n",
    "        \n",
    "    def add_child(self, child):\n",
    "        self.children.append(child)\n",
    "        \n",
    "    def __str__(self):\n",
    "        return \"<Branch name=\\\"%s\\\", num_children=%d, num_parents=%d>\" % (self.name, len(self.children), len(self.parents)) \n",
    "    \n",
    "    def __repr__(self):\n",
    "        return str(self)\n",
    "\n",
    "def add_lattice_edge(parent, child, branch_map, parentless):\n",
    "    if type(child) is str:\n",
    "        if child not in branch_map:\n",
    "            branch_map[child] = OntologyBranch(child)\n",
    "        child = branch_map[child]\n",
    "    if type(parent) is str:\n",
    "        if parent not in branch_map:\n",
    "            branch_map[parent] = OntologyBranch(parent)\n",
    "            parentless.append(branch_map[parent])\n",
    "        parent = branch_map[parent]\n",
    "    child.add_parent(parent)    \n",
    "    return (parent, child)\n",
    "\n",
    "def load_roots_from_stream(fp, roots, total_size):\n",
    "    text_fin = io.TextIOWrapper(fp, newline='')\n",
    "    \n",
    "    parentless = []\n",
    "    branch_map = {}\n",
    "    right_arrow = \"->\"\n",
    "    left_arrow = \"<-\"\n",
    "    \n",
    "    marked_branch = None\n",
    "    last_edge_is_right_arrow = True\n",
    "    \n",
    "    for k, line in enumerate(text_fin):\n",
    "        tokens = line.split(right_arrow, 1)\n",
    "        if len(tokens) >= 2:\n",
    "            for i in range(len(tokens)-1):\n",
    "                marked_branch = add_lattice_edge(tokens[i], tokens[i+1].strip(), branch_map, parentless)[0]\n",
    "                last_edge_is_right_arrow = True\n",
    "        else:\n",
    "            tokens = line.split(left_arrow, 1)\n",
    "            if len(tokens) >= 2:\n",
    "                for i in range(len(tokens)-1):\n",
    "                    marked_branch = add_lattice_edge(tokens[i+1].strip(), tokens[i], branch_map, parentless)[1]\n",
    "                    last_edge_is_right_arrow = False\n",
    "            elif marked_branch is not None:\n",
    "                if last_edge_is_right_arrow:\n",
    "                    add_lattice_edge(marked_branch, tokens[0].strip(), branch_map, parentless)\n",
    "                else:\n",
    "                    add_lattice_edge(tokens[0].strip(), marked_branch, branch_map, parentless)\n",
    "        if k % 2000 == 0:\n",
    "            progress = fp.tell() / total_size\n",
    "            clear_output(wait=True)\n",
    "            print(\"█\" * (int(20 * progress)) + \" %.1f%%\" % (100 * progress,))\n",
    "                        \n",
    "    for k in parentless:\n",
    "        if len(k.parents) == 0:\n",
    "            roots.append(k)\n",
    "            k.lookup_table = branch_map\n",
    "    \n",
    "\n",
    "def load_abstract_trees(path):\n",
    "    roots = []\n",
    "    total_size = os.stat(path).st_size\n",
    "     \n",
    "    try:\n",
    "        fp = gzip.open(path, \"rb\")\n",
    "        load_roots_from_stream(fp, roots, total_size)\n",
    "        fp.close()\n",
    "    except OSError:\n",
    "        fpalt = open(path, \"rb\")\n",
    "        load_roots_from_stream(fpalt, roots, total_size)\n",
    "        fpalt.close()\n",
    "    finally:\n",
    "        fp.close()\n",
    "    \n",
    "    return roots"
   ]
  },
  {
   "cell_type": "code",
   "execution_count": 27,
   "metadata": {
    "collapsed": false
   },
   "outputs": [
    {
     "name": "stdout",
     "output_type": "stream",
     "text": [
      "██████████████████████████████████████████████████████████████████████████████████████████████████████ 513.2%\n"
     ]
    }
   ],
   "source": [
    "roots = load_abstract_trees(\"ontology.txt.gz\")"
   ]
  },
  {
   "cell_type": "code",
   "execution_count": 52,
   "metadata": {
    "collapsed": false
   },
   "outputs": [],
   "source": [
    "c = 0\n",
    "for root in roots:\n",
    "    if not root.name.startswith(\"fp:\"):\n",
    "        c+=1\n"
   ]
  },
  {
   "cell_type": "code",
   "execution_count": 54,
   "metadata": {
    "collapsed": false
   },
   "outputs": [
    {
     "data": {
      "text/plain": [
       "1232"
      ]
     },
     "execution_count": 54,
     "metadata": {},
     "output_type": "execute_result"
    }
   ],
   "source": [
    "root.children[0].parents[0].parents[0].parents[0].parents[0].parents[0].parents[0].parents[0].parents[0].parents[0].parents[0].parents[0].parents\n",
    "\n",
    "\n",
    "\n"
   ]
  },
  {
   "cell_type": "code",
   "execution_count": 59,
   "metadata": {
    "collapsed": false
   },
   "outputs": [
    {
     "name": "stdout",
     "output_type": "stream",
     "text": [
      " -> fp:Concepts -> fp:Cognition -> fp:Mental processes -> fp:Mind -> fp:Metaphysics -> fp:Philosophy -> fp:Humanities -> fp:Academic disciplines -> fp:Academia -> fp:Knowledge -> fp:Perception -> fp:Mental processes -> fp:Mind\n"
     ]
    }
   ],
   "source": [
    "node = root.children[0]\n",
    "\n",
    "i = 0\n",
    "path = \"\"\n",
    "while i < 13:\n",
    "    path += \" -> \" + node.name\n",
    "    node = node.parents[0]\n",
    "    i+=1\n",
    "print(path)"
   ]
  },
  {
   "cell_type": "code",
   "execution_count": 39,
   "metadata": {
    "collapsed": false
   },
   "outputs": [],
   "source": [
    "parentless_concepts = []\n",
    "for key, val in root.lookup_table.items():\n",
    "    if not key.startswith(\"fp:\") and key != root:\n",
    "        if len(val.parents) == 0:\n",
    "            parentless_concepts.append(val)\n",
    "            "
   ]
  },
  {
   "cell_type": "code",
   "execution_count": 48,
   "metadata": {
    "collapsed": false
   },
   "outputs": [
    {
     "name": "stdout",
     "output_type": "stream",
     "text": [
      "root->Joe\n",
      "Bob\n",
      "Max\n",
      "Mary\n",
      "Jane\n",
      "Goodwin\n",
      "root 2->Joe\n",
      "Bob\n",
      "Max\n",
      "Mary\n",
      "Jane\n",
      "Goodwin\n",
      "\n"
     ]
    }
   ],
   "source": [
    "print(open(\"../lattice2.txt\", \"rt\").read())"
   ]
  },
  {
   "cell_type": "code",
   "execution_count": null,
   "metadata": {
    "collapsed": false
   },
   "outputs": [],
   "source": []
  }
 ],
 "metadata": {
  "kernelspec": {
   "display_name": "Python 3",
   "language": "python",
   "name": "python3"
  },
  "language_info": {
   "codemirror_mode": {
    "name": "ipython",
    "version": 3
   },
   "file_extension": ".py",
   "mimetype": "text/x-python",
   "name": "python",
   "nbconvert_exporter": "python",
   "pygments_lexer": "ipython3",
   "version": "3.4.3"
  }
 },
 "nbformat": 4,
 "nbformat_minor": 0
}
