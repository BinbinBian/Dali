{
 "metadata": {
  "name": "",
  "signature": "sha256:89dd5b4778f10f8d33fdffc1450d5ad4629ae4da441d439b59c57105d8427328"
 },
 "nbformat": 3,
 "nbformat_minor": 0,
 "worksheets": [
  {
   "cells": [
    {
     "cell_type": "code",
     "collapsed": false,
     "input": [
      "from xml_cleaner import to_raw_text_markupless"
     ],
     "language": "python",
     "metadata": {},
     "outputs": [],
     "prompt_number": 1
    },
    {
     "cell_type": "code",
     "collapsed": false,
     "input": [
      "path = \"/Users/jonathanraiman/Desktop/eng_news_2007_30K-text/eng_news_2007_30K-sentences.txt\""
     ],
     "language": "python",
     "metadata": {},
     "outputs": [],
     "prompt_number": 2
    },
    {
     "cell_type": "code",
     "collapsed": false,
     "input": [
      "import random\n",
      "def clean_and_output(path, outpath, valid_path, valid_percent = 0.1):\n",
      "    with open(valid_path, \"wt\") as fvalid:\n",
      "        with open(outpath, \"wt\") as fout:\n",
      "            with open(path, \"rt\") as fin:\n",
      "                for line in fin:\n",
      "                    line = line.split(\"\\t\", 1)[1]\n",
      "                    for sentence in to_raw_text_markupless(line):\n",
      "                        if random.random() > valid_percent:\n",
      "                            fout.write(\" \".join(sentence))\n",
      "                            fout.write(\"\\n\")\n",
      "                        else:\n",
      "                            fvalid.write(\" \".join(sentence))\n",
      "                            fvalid.write(\"\\n\")"
     ],
     "language": "python",
     "metadata": {},
     "outputs": [],
     "prompt_number": 4
    },
    {
     "cell_type": "code",
     "collapsed": false,
     "input": [
      "clean_and_output(\n",
      "\"/Users/jonathanraiman/Desktop/eng_news_30K_2007/eng_news_2007_30K-sentences.txt\",\n",
      "\"/Users/jonathanraiman/Desktop/eng_news_30K_2007/train.txt\",\n",
      "\"/Users/jonathanraiman/Desktop/eng_news_30K_2007/validation.txt\"\n",
      ")"
     ],
     "language": "python",
     "metadata": {},
     "outputs": [],
     "prompt_number": 5
    },
    {
     "cell_type": "code",
     "collapsed": false,
     "input": [
      "line = \"APP.COM - Sixteen families displaced in apartment building fire Apple A.B.C.\""
     ],
     "language": "python",
     "metadata": {},
     "outputs": [],
     "prompt_number": 17
    },
    {
     "cell_type": "code",
     "collapsed": false,
     "input": [],
     "language": "python",
     "metadata": {},
     "outputs": [],
     "prompt_number": 124
    },
    {
     "cell_type": "code",
     "collapsed": false,
     "input": [],
     "language": "python",
     "metadata": {},
     "outputs": []
    }
   ],
   "metadata": {}
  }
 ]
}